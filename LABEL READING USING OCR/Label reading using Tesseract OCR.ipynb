{
 "cells": [
  {
   "cell_type": "code",
   "execution_count": 1,
   "metadata": {},
   "outputs": [
    {
     "name": "stdout",
     "output_type": "stream",
     "text": [
      "Collecting pytesseract\n",
      "  Downloading pytesseract-0.3.7.tar.gz (13 kB)\n",
      "Requirement already satisfied: Pillow in c:\\users\\radhika goel\\appdata\\local\\programs\\python\\python38\\lib\\site-packages (from pytesseract) (8.1.0)\n",
      "Building wheels for collected packages: pytesseract\n",
      "  Building wheel for pytesseract (setup.py): started\n",
      "  Building wheel for pytesseract (setup.py): finished with status 'done'\n",
      "  Created wheel for pytesseract: filename=pytesseract-0.3.7-py2.py3-none-any.whl size=13945 sha256=576434c1979c317488d1e2e42fe5c2427d5dad71f2ffa7162996242d1e009dfa\n",
      "  Stored in directory: c:\\users\\radhika goel\\appdata\\local\\pip\\cache\\wheels\\ac\\5b\\f4\\d5bcc930771126a32285e058c576eda84e43691453a9f7ad71\n",
      "Successfully built pytesseract\n",
      "Installing collected packages: pytesseract\n",
      "Successfully installed pytesseract-0.3.7\n"
     ]
    },
    {
     "name": "stderr",
     "output_type": "stream",
     "text": [
      "WARNING: You are using pip version 21.0.1; however, version 21.1.2 is available.\n",
      "You should consider upgrading via the 'c:\\users\\radhika goel\\appdata\\local\\programs\\python\\python38\\python.exe -m pip install --upgrade pip' command.\n"
     ]
    }
   ],
   "source": [
    "!pip install pytesseract"
   ]
  },
  {
   "cell_type": "markdown",
   "metadata": {},
   "source": [
    "# Extracting Text from Image"
   ]
  },
  {
   "cell_type": "code",
   "execution_count": 1,
   "metadata": {},
   "outputs": [
    {
     "name": "stdout",
     "output_type": "stream",
     "text": [
      "If you get up in the morning and think the future is going to be better,\n",
      "\n",
      "itis a bright day, Otherwise, it's not.\n",
      "- Elon Musk\n",
      "\f",
      "\n",
      "Successfully Written down \n"
     ]
    }
   ],
   "source": [
    "try: \n",
    "    from PIL import Image\n",
    "except ImportError:\n",
    "    import Image\n",
    "    \n",
    "import pytesseract\n",
    "pytesseract.pytesseract.tesseract_cmd = r'C:\\Program Files\\Tesseract-OCR\\tesseract.exe'\n",
    "\n",
    "def recText(filename):\n",
    "    text = pytesseract.image_to_string(Image.open(filename))\n",
    "    return text\n",
    "\n",
    "# uncomment any one of the 3 examples or add more example Images\n",
    "info = recText('Elon Musk.png')\n",
    "# info = recText('Test Image.png')\n",
    "# info = recText('funny Quotes.png')\n",
    "print(info)\n",
    "file = open('result1.txt', 'w')\n",
    "file.write(info)\n",
    "file.close()\n",
    "print('Successfully Written down ')"
   ]
  }
 ],
 "metadata": {
  "kernelspec": {
   "display_name": "Python 3",
   "language": "python",
   "name": "python3"
  },
  "language_info": {
   "codemirror_mode": {
    "name": "ipython",
    "version": 3
   },
   "file_extension": ".py",
   "mimetype": "text/x-python",
   "name": "python",
   "nbconvert_exporter": "python",
   "pygments_lexer": "ipython3",
   "version": "3.8.6"
  }
 },
 "nbformat": 4,
 "nbformat_minor": 4
}
